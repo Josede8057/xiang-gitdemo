{
 "cells": [
  {
   "cell_type": "code",
   "execution_count": null,
   "id": "183c38d8",
   "metadata": {},
   "outputs": [],
   "source": [
    "\"\"\"\n",
    "Assignment:\n",
    "\n",
    "Project=>directory(Mathemetics)=>files(arithematic, logical implement their functionalties as functions in respective classes)\n",
    "\n",
    "class Arithemtic:\n",
    "    \n",
    "    addition()\n",
    "    substraction()\n",
    "    multiplication\n",
    "    division\n",
    "    modulous\n",
    "\n",
    "Assignment2:\n",
    "create a class Name ListFunctionalities: append, extend, insert at particular location, remove at particular location. delelet all values\n",
    "\"\"\""
   ]
  },
  {
   "cell_type": "markdown",
   "id": "548b95a8",
   "metadata": {},
   "source": [
    "## Pandas"
   ]
  },
  {
   "cell_type": "code",
   "execution_count": 2,
   "id": "429e6685",
   "metadata": {},
   "outputs": [],
   "source": [
    "import pandas as pd"
   ]
  },
  {
   "cell_type": "code",
   "execution_count": 6,
   "id": "c79a0690",
   "metadata": {},
   "outputs": [],
   "source": [
    "# pwd"
   ]
  },
  {
   "cell_type": "code",
   "execution_count": 5,
   "id": "47a4a98f",
   "metadata": {},
   "outputs": [],
   "source": [
    "# ls"
   ]
  },
  {
   "cell_type": "code",
   "execution_count": 47,
   "id": "e1dc35b8",
   "metadata": {},
   "outputs": [],
   "source": [
    "df = pd.read_csv(\"research_and_dev_data.csv\")"
   ]
  },
  {
   "cell_type": "code",
   "execution_count": 48,
   "id": "dc63ebb7",
   "metadata": {},
   "outputs": [
    {
     "data": {
      "text/html": [
       "<div>\n",
       "<style scoped>\n",
       "    .dataframe tbody tr th:only-of-type {\n",
       "        vertical-align: middle;\n",
       "    }\n",
       "\n",
       "    .dataframe tbody tr th {\n",
       "        vertical-align: top;\n",
       "    }\n",
       "\n",
       "    .dataframe thead th {\n",
       "        text-align: right;\n",
       "    }\n",
       "</style>\n",
       "<table border=\"1\" class=\"dataframe\">\n",
       "  <thead>\n",
       "    <tr style=\"text-align: right;\">\n",
       "      <th></th>\n",
       "      <th>Variable</th>\n",
       "      <th>Breakdown</th>\n",
       "      <th>Breakdown_category</th>\n",
       "      <th>Year</th>\n",
       "      <th>RD_Value</th>\n",
       "      <th>Status</th>\n",
       "      <th>Footnotes</th>\n",
       "      <th>Unit_for_TSM_and_CSV</th>\n",
       "    </tr>\n",
       "  </thead>\n",
       "  <tbody>\n",
       "    <tr>\n",
       "      <th>0</th>\n",
       "      <td>_01_Current_and_Capital_Expenditure:_Total_RD_...</td>\n",
       "      <td>ANZSIC_1_Digit</td>\n",
       "      <td>A_Agriculture, Forestry and Fishing</td>\n",
       "      <td>2016</td>\n",
       "      <td>91</td>\n",
       "      <td>NaN</td>\n",
       "      <td>12</td>\n",
       "      <td>NZ Dollars (millions)</td>\n",
       "    </tr>\n",
       "    <tr>\n",
       "      <th>1</th>\n",
       "      <td>_01_Current_and_Capital_Expenditure:_Total_RD_...</td>\n",
       "      <td>ANZSIC_1_Digit</td>\n",
       "      <td>A_Agriculture, Forestry and Fishing</td>\n",
       "      <td>2018</td>\n",
       "      <td>89</td>\n",
       "      <td>NaN</td>\n",
       "      <td>12</td>\n",
       "      <td>NZ Dollars (millions)</td>\n",
       "    </tr>\n",
       "    <tr>\n",
       "      <th>2</th>\n",
       "      <td>_01_Current_and_Capital_Expenditure:_Total_RD_...</td>\n",
       "      <td>ANZSIC_1_Digit</td>\n",
       "      <td>A_Agriculture, Forestry and Fishing</td>\n",
       "      <td>2019</td>\n",
       "      <td>...</td>\n",
       "      <td>NaN</td>\n",
       "      <td>12</td>\n",
       "      <td>NZ Dollars (millions)</td>\n",
       "    </tr>\n",
       "    <tr>\n",
       "      <th>3</th>\n",
       "      <td>_01_Current_and_Capital_Expenditure:_Total_RD_...</td>\n",
       "      <td>ANZSIC_1_Digit</td>\n",
       "      <td>A_Agriculture, Forestry and Fishing</td>\n",
       "      <td>2020</td>\n",
       "      <td>99</td>\n",
       "      <td>P</td>\n",
       "      <td>12</td>\n",
       "      <td>NZ Dollars (millions)</td>\n",
       "    </tr>\n",
       "    <tr>\n",
       "      <th>4</th>\n",
       "      <td>_01_Current_and_Capital_Expenditure:_Total_RD_...</td>\n",
       "      <td>ANZSIC_1_Digit</td>\n",
       "      <td>A_Agriculture, Forestry and Fishing</td>\n",
       "      <td>2021</td>\n",
       "      <td>...</td>\n",
       "      <td>NaN</td>\n",
       "      <td>12</td>\n",
       "      <td>NZ Dollars (millions)</td>\n",
       "    </tr>\n",
       "  </tbody>\n",
       "</table>\n",
       "</div>"
      ],
      "text/plain": [
       "                                            Variable       Breakdown  \\\n",
       "0  _01_Current_and_Capital_Expenditure:_Total_RD_...  ANZSIC_1_Digit   \n",
       "1  _01_Current_and_Capital_Expenditure:_Total_RD_...  ANZSIC_1_Digit   \n",
       "2  _01_Current_and_Capital_Expenditure:_Total_RD_...  ANZSIC_1_Digit   \n",
       "3  _01_Current_and_Capital_Expenditure:_Total_RD_...  ANZSIC_1_Digit   \n",
       "4  _01_Current_and_Capital_Expenditure:_Total_RD_...  ANZSIC_1_Digit   \n",
       "\n",
       "                    Breakdown_category  Year RD_Value Status Footnotes  \\\n",
       "0  A_Agriculture, Forestry and Fishing  2016       91    NaN        12   \n",
       "1  A_Agriculture, Forestry and Fishing  2018       89    NaN        12   \n",
       "2  A_Agriculture, Forestry and Fishing  2019      ...    NaN        12   \n",
       "3  A_Agriculture, Forestry and Fishing  2020       99      P        12   \n",
       "4  A_Agriculture, Forestry and Fishing  2021      ...    NaN        12   \n",
       "\n",
       "    Unit_for_TSM_and_CSV  \n",
       "0  NZ Dollars (millions)  \n",
       "1  NZ Dollars (millions)  \n",
       "2  NZ Dollars (millions)  \n",
       "3  NZ Dollars (millions)  \n",
       "4  NZ Dollars (millions)  "
      ]
     },
     "execution_count": 48,
     "metadata": {},
     "output_type": "execute_result"
    }
   ],
   "source": [
    "df.head()"
   ]
  },
  {
   "cell_type": "code",
   "execution_count": 49,
   "id": "842db120",
   "metadata": {},
   "outputs": [
    {
     "data": {
      "text/html": [
       "<div>\n",
       "<style scoped>\n",
       "    .dataframe tbody tr th:only-of-type {\n",
       "        vertical-align: middle;\n",
       "    }\n",
       "\n",
       "    .dataframe tbody tr th {\n",
       "        vertical-align: top;\n",
       "    }\n",
       "\n",
       "    .dataframe thead th {\n",
       "        text-align: right;\n",
       "    }\n",
       "</style>\n",
       "<table border=\"1\" class=\"dataframe\">\n",
       "  <thead>\n",
       "    <tr style=\"text-align: right;\">\n",
       "      <th></th>\n",
       "      <th>Variable</th>\n",
       "      <th>Breakdown</th>\n",
       "      <th>Breakdown_category</th>\n",
       "      <th>Year</th>\n",
       "      <th>RD_Value</th>\n",
       "      <th>Status</th>\n",
       "      <th>Footnotes</th>\n",
       "      <th>Unit_for_TSM_and_CSV</th>\n",
       "    </tr>\n",
       "  </thead>\n",
       "  <tbody>\n",
       "    <tr>\n",
       "      <th>27658</th>\n",
       "      <td>_94_Total_RD_Expenditure_as_a_proportion_of_GDP</td>\n",
       "      <td>Country</td>\n",
       "      <td>United States</td>\n",
       "      <td>2016</td>\n",
       "      <td>2.85</td>\n",
       "      <td>NaN</td>\n",
       "      <td>NaN</td>\n",
       "      <td>Percentage of GDP</td>\n",
       "    </tr>\n",
       "    <tr>\n",
       "      <th>27659</th>\n",
       "      <td>_94_Total_RD_Expenditure_as_a_proportion_of_GDP</td>\n",
       "      <td>Country</td>\n",
       "      <td>United States</td>\n",
       "      <td>2017</td>\n",
       "      <td>2.91</td>\n",
       "      <td>NaN</td>\n",
       "      <td>NaN</td>\n",
       "      <td>Percentage of GDP</td>\n",
       "    </tr>\n",
       "    <tr>\n",
       "      <th>27660</th>\n",
       "      <td>_94_Total_RD_Expenditure_as_a_proportion_of_GDP</td>\n",
       "      <td>Country</td>\n",
       "      <td>United States</td>\n",
       "      <td>2018</td>\n",
       "      <td>3.01</td>\n",
       "      <td>NaN</td>\n",
       "      <td>NaN</td>\n",
       "      <td>Percentage of GDP</td>\n",
       "    </tr>\n",
       "    <tr>\n",
       "      <th>27661</th>\n",
       "      <td>_94_Total_RD_Expenditure_as_a_proportion_of_GDP</td>\n",
       "      <td>Country</td>\n",
       "      <td>United States</td>\n",
       "      <td>2019</td>\n",
       "      <td>3.18</td>\n",
       "      <td>NaN</td>\n",
       "      <td>NaN</td>\n",
       "      <td>Percentage of GDP</td>\n",
       "    </tr>\n",
       "    <tr>\n",
       "      <th>27662</th>\n",
       "      <td>_94_Total_RD_Expenditure_as_a_proportion_of_GDP</td>\n",
       "      <td>Country</td>\n",
       "      <td>United States</td>\n",
       "      <td>2020</td>\n",
       "      <td>3.45</td>\n",
       "      <td>NaN</td>\n",
       "      <td>NaN</td>\n",
       "      <td>Percentage of GDP</td>\n",
       "    </tr>\n",
       "  </tbody>\n",
       "</table>\n",
       "</div>"
      ],
      "text/plain": [
       "                                              Variable Breakdown  \\\n",
       "27658  _94_Total_RD_Expenditure_as_a_proportion_of_GDP   Country   \n",
       "27659  _94_Total_RD_Expenditure_as_a_proportion_of_GDP   Country   \n",
       "27660  _94_Total_RD_Expenditure_as_a_proportion_of_GDP   Country   \n",
       "27661  _94_Total_RD_Expenditure_as_a_proportion_of_GDP   Country   \n",
       "27662  _94_Total_RD_Expenditure_as_a_proportion_of_GDP   Country   \n",
       "\n",
       "      Breakdown_category  Year RD_Value Status Footnotes Unit_for_TSM_and_CSV  \n",
       "27658      United States  2016     2.85    NaN       NaN    Percentage of GDP  \n",
       "27659      United States  2017     2.91    NaN       NaN    Percentage of GDP  \n",
       "27660      United States  2018     3.01    NaN       NaN    Percentage of GDP  \n",
       "27661      United States  2019     3.18    NaN       NaN    Percentage of GDP  \n",
       "27662      United States  2020     3.45    NaN       NaN    Percentage of GDP  "
      ]
     },
     "execution_count": 49,
     "metadata": {},
     "output_type": "execute_result"
    }
   ],
   "source": [
    "df.tail()"
   ]
  },
  {
   "cell_type": "code",
   "execution_count": 9,
   "id": "0287284a",
   "metadata": {},
   "outputs": [],
   "source": [
    "df.to_csv(\"research_and_dev_data1.csv\")"
   ]
  },
  {
   "cell_type": "code",
   "execution_count": 10,
   "id": "4de4ef4f",
   "metadata": {},
   "outputs": [],
   "source": [
    "import numpy as np"
   ]
  },
  {
   "cell_type": "code",
   "execution_count": 11,
   "id": "8941fcf8",
   "metadata": {},
   "outputs": [],
   "source": [
    "numbers = np.array([1,2,3,4,9])"
   ]
  },
  {
   "cell_type": "code",
   "execution_count": null,
   "id": "941d26e8",
   "metadata": {},
   "outputs": [],
   "source": []
  },
  {
   "cell_type": "markdown",
   "id": "a49f88a0",
   "metadata": {},
   "source": [
    "# Difference between Pandas Data Series and Dataframe  "
   ]
  },
  {
   "cell_type": "markdown",
   "id": "1cb550a7",
   "metadata": {},
   "source": [
    "# Pandas Data Series"
   ]
  },
  {
   "cell_type": "code",
   "execution_count": 13,
   "id": "63c64b91",
   "metadata": {},
   "outputs": [],
   "source": [
    "pandas_searies = pd.Series(numbers)"
   ]
  },
  {
   "cell_type": "code",
   "execution_count": 14,
   "id": "b762a1b9",
   "metadata": {},
   "outputs": [
    {
     "data": {
      "text/plain": [
       "0    1\n",
       "1    2\n",
       "2    3\n",
       "3    4\n",
       "4    9\n",
       "dtype: int64"
      ]
     },
     "execution_count": 14,
     "metadata": {},
     "output_type": "execute_result"
    }
   ],
   "source": [
    "pandas_searies"
   ]
  },
  {
   "cell_type": "code",
   "execution_count": 18,
   "id": "9ffb1f82",
   "metadata": {},
   "outputs": [],
   "source": [
    "numbers_with_index = pd.Series(numbers, index = [0,1,2,3,4])"
   ]
  },
  {
   "cell_type": "code",
   "execution_count": 19,
   "id": "288383cf",
   "metadata": {},
   "outputs": [
    {
     "data": {
      "text/plain": [
       "0    1\n",
       "1    2\n",
       "2    3\n",
       "3    4\n",
       "4    9\n",
       "dtype: int64"
      ]
     },
     "execution_count": 19,
     "metadata": {},
     "output_type": "execute_result"
    }
   ],
   "source": [
    "numbers_with_index"
   ]
  },
  {
   "cell_type": "code",
   "execution_count": 20,
   "id": "c57fdfda",
   "metadata": {},
   "outputs": [],
   "source": [
    "state_capitals = {'andhra': 'amaravati',\n",
    "                 'karnataka': 'bangalore',\n",
    "                 'goa': 'panaji',\n",
    "                 'telangana': 'hyderabad'}"
   ]
  },
  {
   "cell_type": "code",
   "execution_count": 21,
   "id": "722e01c0",
   "metadata": {},
   "outputs": [],
   "source": [
    "state_capitals_series = pd.Series(state_capitals)"
   ]
  },
  {
   "cell_type": "code",
   "execution_count": 23,
   "id": "a5e77434",
   "metadata": {},
   "outputs": [
    {
     "data": {
      "text/plain": [
       "andhra       amaravati\n",
       "karnataka    bangalore\n",
       "goa             panaji\n",
       "telangana    hyderabad\n",
       "dtype: object"
      ]
     },
     "execution_count": 23,
     "metadata": {},
     "output_type": "execute_result"
    }
   ],
   "source": [
    "state_capitals_series.head()"
   ]
  },
  {
   "cell_type": "markdown",
   "id": "ba4981b6",
   "metadata": {},
   "source": [
    "# Pandas DataFrame"
   ]
  },
  {
   "cell_type": "code",
   "execution_count": 24,
   "id": "be91ae90",
   "metadata": {},
   "outputs": [],
   "source": [
    "alphabets = ['a', 'b', 'c', 'd']"
   ]
  },
  {
   "cell_type": "code",
   "execution_count": 25,
   "id": "48f6add0",
   "metadata": {},
   "outputs": [],
   "source": [
    "alpha_df = pd.DataFrame(alphabets)"
   ]
  },
  {
   "cell_type": "code",
   "execution_count": 26,
   "id": "b8777d1c",
   "metadata": {},
   "outputs": [
    {
     "data": {
      "text/html": [
       "<div>\n",
       "<style scoped>\n",
       "    .dataframe tbody tr th:only-of-type {\n",
       "        vertical-align: middle;\n",
       "    }\n",
       "\n",
       "    .dataframe tbody tr th {\n",
       "        vertical-align: top;\n",
       "    }\n",
       "\n",
       "    .dataframe thead th {\n",
       "        text-align: right;\n",
       "    }\n",
       "</style>\n",
       "<table border=\"1\" class=\"dataframe\">\n",
       "  <thead>\n",
       "    <tr style=\"text-align: right;\">\n",
       "      <th></th>\n",
       "      <th>0</th>\n",
       "    </tr>\n",
       "  </thead>\n",
       "  <tbody>\n",
       "    <tr>\n",
       "      <th>0</th>\n",
       "      <td>a</td>\n",
       "    </tr>\n",
       "    <tr>\n",
       "      <th>1</th>\n",
       "      <td>b</td>\n",
       "    </tr>\n",
       "    <tr>\n",
       "      <th>2</th>\n",
       "      <td>c</td>\n",
       "    </tr>\n",
       "    <tr>\n",
       "      <th>3</th>\n",
       "      <td>d</td>\n",
       "    </tr>\n",
       "  </tbody>\n",
       "</table>\n",
       "</div>"
      ],
      "text/plain": [
       "   0\n",
       "0  a\n",
       "1  b\n",
       "2  c\n",
       "3  d"
      ]
     },
     "execution_count": 26,
     "metadata": {},
     "output_type": "execute_result"
    }
   ],
   "source": [
    "alpha_df"
   ]
  },
  {
   "cell_type": "code",
   "execution_count": 27,
   "id": "e2d6e191",
   "metadata": {},
   "outputs": [],
   "source": [
    "country_capitals = [['India', 'New-Delhi'], ['France', 'Paris'], ['China', 'Beijing'], ['canada', 'Ottawa']]"
   ]
  },
  {
   "cell_type": "code",
   "execution_count": 28,
   "id": "8620f78d",
   "metadata": {},
   "outputs": [],
   "source": [
    "country_capitals_df = pd.DataFrame(country_capitals)"
   ]
  },
  {
   "cell_type": "code",
   "execution_count": 29,
   "id": "bfb3acd6",
   "metadata": {},
   "outputs": [
    {
     "data": {
      "text/html": [
       "<div>\n",
       "<style scoped>\n",
       "    .dataframe tbody tr th:only-of-type {\n",
       "        vertical-align: middle;\n",
       "    }\n",
       "\n",
       "    .dataframe tbody tr th {\n",
       "        vertical-align: top;\n",
       "    }\n",
       "\n",
       "    .dataframe thead th {\n",
       "        text-align: right;\n",
       "    }\n",
       "</style>\n",
       "<table border=\"1\" class=\"dataframe\">\n",
       "  <thead>\n",
       "    <tr style=\"text-align: right;\">\n",
       "      <th></th>\n",
       "      <th>0</th>\n",
       "      <th>1</th>\n",
       "    </tr>\n",
       "  </thead>\n",
       "  <tbody>\n",
       "    <tr>\n",
       "      <th>0</th>\n",
       "      <td>India</td>\n",
       "      <td>New-Delhi</td>\n",
       "    </tr>\n",
       "    <tr>\n",
       "      <th>1</th>\n",
       "      <td>France</td>\n",
       "      <td>Paris</td>\n",
       "    </tr>\n",
       "    <tr>\n",
       "      <th>2</th>\n",
       "      <td>China</td>\n",
       "      <td>Beijing</td>\n",
       "    </tr>\n",
       "    <tr>\n",
       "      <th>3</th>\n",
       "      <td>canada</td>\n",
       "      <td>Ottawa</td>\n",
       "    </tr>\n",
       "  </tbody>\n",
       "</table>\n",
       "</div>"
      ],
      "text/plain": [
       "        0          1\n",
       "0   India  New-Delhi\n",
       "1  France      Paris\n",
       "2   China    Beijing\n",
       "3  canada     Ottawa"
      ]
     },
     "execution_count": 29,
     "metadata": {},
     "output_type": "execute_result"
    }
   ],
   "source": [
    "country_capitals_df.head()"
   ]
  },
  {
   "cell_type": "code",
   "execution_count": 30,
   "id": "f62c7c1c",
   "metadata": {},
   "outputs": [],
   "source": [
    "name_age = {'name':['jing', 'donhyu', 'yuzia'], 'age': [12, 13, 15]}"
   ]
  },
  {
   "cell_type": "code",
   "execution_count": 31,
   "id": "8923f4fd",
   "metadata": {},
   "outputs": [],
   "source": [
    "name_age_df = pd.DataFrame(name_age)"
   ]
  },
  {
   "cell_type": "code",
   "execution_count": 32,
   "id": "0958ed49",
   "metadata": {},
   "outputs": [
    {
     "data": {
      "text/html": [
       "<div>\n",
       "<style scoped>\n",
       "    .dataframe tbody tr th:only-of-type {\n",
       "        vertical-align: middle;\n",
       "    }\n",
       "\n",
       "    .dataframe tbody tr th {\n",
       "        vertical-align: top;\n",
       "    }\n",
       "\n",
       "    .dataframe thead th {\n",
       "        text-align: right;\n",
       "    }\n",
       "</style>\n",
       "<table border=\"1\" class=\"dataframe\">\n",
       "  <thead>\n",
       "    <tr style=\"text-align: right;\">\n",
       "      <th></th>\n",
       "      <th>name</th>\n",
       "      <th>age</th>\n",
       "    </tr>\n",
       "  </thead>\n",
       "  <tbody>\n",
       "    <tr>\n",
       "      <th>0</th>\n",
       "      <td>jing</td>\n",
       "      <td>12</td>\n",
       "    </tr>\n",
       "    <tr>\n",
       "      <th>1</th>\n",
       "      <td>donhyu</td>\n",
       "      <td>13</td>\n",
       "    </tr>\n",
       "    <tr>\n",
       "      <th>2</th>\n",
       "      <td>yuzia</td>\n",
       "      <td>15</td>\n",
       "    </tr>\n",
       "  </tbody>\n",
       "</table>\n",
       "</div>"
      ],
      "text/plain": [
       "     name  age\n",
       "0    jing   12\n",
       "1  donhyu   13\n",
       "2   yuzia   15"
      ]
     },
     "execution_count": 32,
     "metadata": {},
     "output_type": "execute_result"
    }
   ],
   "source": [
    "name_age_df.head()"
   ]
  },
  {
   "cell_type": "code",
   "execution_count": 35,
   "id": "6730ba42",
   "metadata": {},
   "outputs": [],
   "source": [
    "df1 = pd.DataFrame([[1,2], [3,4]], columns = ['col1', 'col2'])"
   ]
  },
  {
   "cell_type": "code",
   "execution_count": 34,
   "id": "d8f99c46",
   "metadata": {},
   "outputs": [
    {
     "data": {
      "text/html": [
       "<div>\n",
       "<style scoped>\n",
       "    .dataframe tbody tr th:only-of-type {\n",
       "        vertical-align: middle;\n",
       "    }\n",
       "\n",
       "    .dataframe tbody tr th {\n",
       "        vertical-align: top;\n",
       "    }\n",
       "\n",
       "    .dataframe thead th {\n",
       "        text-align: right;\n",
       "    }\n",
       "</style>\n",
       "<table border=\"1\" class=\"dataframe\">\n",
       "  <thead>\n",
       "    <tr style=\"text-align: right;\">\n",
       "      <th></th>\n",
       "      <th>col1</th>\n",
       "      <th>col2</th>\n",
       "    </tr>\n",
       "  </thead>\n",
       "  <tbody>\n",
       "    <tr>\n",
       "      <th>0</th>\n",
       "      <td>1</td>\n",
       "      <td>2</td>\n",
       "    </tr>\n",
       "    <tr>\n",
       "      <th>1</th>\n",
       "      <td>3</td>\n",
       "      <td>4</td>\n",
       "    </tr>\n",
       "  </tbody>\n",
       "</table>\n",
       "</div>"
      ],
      "text/plain": [
       "   col1  col2\n",
       "0     1     2\n",
       "1     3     4"
      ]
     },
     "execution_count": 34,
     "metadata": {},
     "output_type": "execute_result"
    }
   ],
   "source": [
    "df.head()"
   ]
  },
  {
   "cell_type": "code",
   "execution_count": 36,
   "id": "3b8ea2cc",
   "metadata": {},
   "outputs": [],
   "source": [
    "df2 = pd.DataFrame([[5,6], [7,8]], columns = ['col1', 'col2'])"
   ]
  },
  {
   "cell_type": "code",
   "execution_count": 37,
   "id": "93495621",
   "metadata": {},
   "outputs": [],
   "source": [
    "df3 = df1.append(df2)"
   ]
  },
  {
   "cell_type": "code",
   "execution_count": 38,
   "id": "9d546d16",
   "metadata": {},
   "outputs": [
    {
     "data": {
      "text/html": [
       "<div>\n",
       "<style scoped>\n",
       "    .dataframe tbody tr th:only-of-type {\n",
       "        vertical-align: middle;\n",
       "    }\n",
       "\n",
       "    .dataframe tbody tr th {\n",
       "        vertical-align: top;\n",
       "    }\n",
       "\n",
       "    .dataframe thead th {\n",
       "        text-align: right;\n",
       "    }\n",
       "</style>\n",
       "<table border=\"1\" class=\"dataframe\">\n",
       "  <thead>\n",
       "    <tr style=\"text-align: right;\">\n",
       "      <th></th>\n",
       "      <th>col1</th>\n",
       "      <th>col2</th>\n",
       "    </tr>\n",
       "  </thead>\n",
       "  <tbody>\n",
       "    <tr>\n",
       "      <th>0</th>\n",
       "      <td>1</td>\n",
       "      <td>2</td>\n",
       "    </tr>\n",
       "    <tr>\n",
       "      <th>1</th>\n",
       "      <td>3</td>\n",
       "      <td>4</td>\n",
       "    </tr>\n",
       "    <tr>\n",
       "      <th>0</th>\n",
       "      <td>5</td>\n",
       "      <td>6</td>\n",
       "    </tr>\n",
       "    <tr>\n",
       "      <th>1</th>\n",
       "      <td>7</td>\n",
       "      <td>8</td>\n",
       "    </tr>\n",
       "  </tbody>\n",
       "</table>\n",
       "</div>"
      ],
      "text/plain": [
       "   col1  col2\n",
       "0     1     2\n",
       "1     3     4\n",
       "0     5     6\n",
       "1     7     8"
      ]
     },
     "execution_count": 38,
     "metadata": {},
     "output_type": "execute_result"
    }
   ],
   "source": [
    "df3.head()"
   ]
  },
  {
   "cell_type": "code",
   "execution_count": 39,
   "id": "a6da44cf",
   "metadata": {},
   "outputs": [
    {
     "data": {
      "text/plain": [
       "col1    int64\n",
       "col2    int64\n",
       "dtype: object"
      ]
     },
     "execution_count": 39,
     "metadata": {},
     "output_type": "execute_result"
    }
   ],
   "source": [
    "df.dtypes"
   ]
  },
  {
   "cell_type": "code",
   "execution_count": 46,
   "id": "83388983",
   "metadata": {},
   "outputs": [
    {
     "data": {
      "text/html": [
       "<div>\n",
       "<style scoped>\n",
       "    .dataframe tbody tr th:only-of-type {\n",
       "        vertical-align: middle;\n",
       "    }\n",
       "\n",
       "    .dataframe tbody tr th {\n",
       "        vertical-align: top;\n",
       "    }\n",
       "\n",
       "    .dataframe thead th {\n",
       "        text-align: right;\n",
       "    }\n",
       "</style>\n",
       "<table border=\"1\" class=\"dataframe\">\n",
       "  <thead>\n",
       "    <tr style=\"text-align: right;\">\n",
       "      <th></th>\n",
       "      <th>col1</th>\n",
       "      <th>col2</th>\n",
       "    </tr>\n",
       "  </thead>\n",
       "  <tbody>\n",
       "    <tr>\n",
       "      <th>count</th>\n",
       "      <td>2.000000</td>\n",
       "      <td>2.000000</td>\n",
       "    </tr>\n",
       "    <tr>\n",
       "      <th>mean</th>\n",
       "      <td>2.000000</td>\n",
       "      <td>3.000000</td>\n",
       "    </tr>\n",
       "    <tr>\n",
       "      <th>std</th>\n",
       "      <td>1.414214</td>\n",
       "      <td>1.414214</td>\n",
       "    </tr>\n",
       "    <tr>\n",
       "      <th>min</th>\n",
       "      <td>1.000000</td>\n",
       "      <td>2.000000</td>\n",
       "    </tr>\n",
       "    <tr>\n",
       "      <th>25%</th>\n",
       "      <td>1.500000</td>\n",
       "      <td>2.500000</td>\n",
       "    </tr>\n",
       "    <tr>\n",
       "      <th>50%</th>\n",
       "      <td>2.000000</td>\n",
       "      <td>3.000000</td>\n",
       "    </tr>\n",
       "    <tr>\n",
       "      <th>75%</th>\n",
       "      <td>2.500000</td>\n",
       "      <td>3.500000</td>\n",
       "    </tr>\n",
       "    <tr>\n",
       "      <th>max</th>\n",
       "      <td>3.000000</td>\n",
       "      <td>4.000000</td>\n",
       "    </tr>\n",
       "  </tbody>\n",
       "</table>\n",
       "</div>"
      ],
      "text/plain": [
       "           col1      col2\n",
       "count  2.000000  2.000000\n",
       "mean   2.000000  3.000000\n",
       "std    1.414214  1.414214\n",
       "min    1.000000  2.000000\n",
       "25%    1.500000  2.500000\n",
       "50%    2.000000  3.000000\n",
       "75%    2.500000  3.500000\n",
       "max    3.000000  4.000000"
      ]
     },
     "execution_count": 46,
     "metadata": {},
     "output_type": "execute_result"
    }
   ],
   "source": [
    "df.describe()"
   ]
  },
  {
   "cell_type": "code",
   "execution_count": 42,
   "id": "bba7bd9f",
   "metadata": {},
   "outputs": [
    {
     "data": {
      "text/plain": [
       "col1    4\n",
       "col2    4\n",
       "dtype: int64"
      ]
     },
     "execution_count": 42,
     "metadata": {},
     "output_type": "execute_result"
    }
   ],
   "source": [
    "df3.count()"
   ]
  },
  {
   "cell_type": "code",
   "execution_count": 43,
   "id": "9d3ad676",
   "metadata": {},
   "outputs": [
    {
     "data": {
      "text/html": [
       "<div>\n",
       "<style scoped>\n",
       "    .dataframe tbody tr th:only-of-type {\n",
       "        vertical-align: middle;\n",
       "    }\n",
       "\n",
       "    .dataframe tbody tr th {\n",
       "        vertical-align: top;\n",
       "    }\n",
       "\n",
       "    .dataframe thead th {\n",
       "        text-align: right;\n",
       "    }\n",
       "</style>\n",
       "<table border=\"1\" class=\"dataframe\">\n",
       "  <thead>\n",
       "    <tr style=\"text-align: right;\">\n",
       "      <th></th>\n",
       "      <th>col1</th>\n",
       "      <th>col2</th>\n",
       "    </tr>\n",
       "  </thead>\n",
       "  <tbody>\n",
       "    <tr>\n",
       "      <th>0</th>\n",
       "      <td>1</td>\n",
       "      <td>2</td>\n",
       "    </tr>\n",
       "    <tr>\n",
       "      <th>1</th>\n",
       "      <td>3</td>\n",
       "      <td>4</td>\n",
       "    </tr>\n",
       "    <tr>\n",
       "      <th>0</th>\n",
       "      <td>5</td>\n",
       "      <td>6</td>\n",
       "    </tr>\n",
       "    <tr>\n",
       "      <th>1</th>\n",
       "      <td>7</td>\n",
       "      <td>8</td>\n",
       "    </tr>\n",
       "  </tbody>\n",
       "</table>\n",
       "</div>"
      ],
      "text/plain": [
       "   col1  col2\n",
       "0     1     2\n",
       "1     3     4\n",
       "0     5     6\n",
       "1     7     8"
      ]
     },
     "execution_count": 43,
     "metadata": {},
     "output_type": "execute_result"
    }
   ],
   "source": [
    "df3.tail()"
   ]
  },
  {
   "cell_type": "code",
   "execution_count": 44,
   "id": "04fa2307",
   "metadata": {},
   "outputs": [
    {
     "data": {
      "text/plain": [
       "False"
      ]
     },
     "execution_count": 44,
     "metadata": {},
     "output_type": "execute_result"
    }
   ],
   "source": [
    "df.empty"
   ]
  },
  {
   "cell_type": "code",
   "execution_count": 45,
   "id": "9d309b30",
   "metadata": {},
   "outputs": [
    {
     "data": {
      "text/plain": [
       "col1    4.0\n",
       "col2    5.0\n",
       "dtype: float64"
      ]
     },
     "execution_count": 45,
     "metadata": {},
     "output_type": "execute_result"
    }
   ],
   "source": [
    "df3.apply(np.mean)"
   ]
  },
  {
   "cell_type": "code",
   "execution_count": 50,
   "id": "97948665",
   "metadata": {},
   "outputs": [],
   "source": [
    "ipl_data = {'Team': ['Riders', 'Riders', 'Devils', 'Devils', 'Kings',\n",
    "   'kings', 'Kings', 'Kings', 'Riders', 'Royals', 'Royals', 'Riders'],\n",
    "   'Rank': [1, 2, 2, 3, 3,4 ,1 ,1,2 , 4,1,2],\n",
    "   'Year': [2014,2015,2014,2015,2014,2015,2016,2017,2016,2014,2015,2017],\n",
    "   'Points':[876,789,863,673,741,812,756,788,694,701,804,690]}\n",
    "df = pd.DataFrame(ipl_data)"
   ]
  },
  {
   "cell_type": "code",
   "execution_count": 51,
   "id": "f82af95b",
   "metadata": {},
   "outputs": [
    {
     "data": {
      "text/html": [
       "<div>\n",
       "<style scoped>\n",
       "    .dataframe tbody tr th:only-of-type {\n",
       "        vertical-align: middle;\n",
       "    }\n",
       "\n",
       "    .dataframe tbody tr th {\n",
       "        vertical-align: top;\n",
       "    }\n",
       "\n",
       "    .dataframe thead th {\n",
       "        text-align: right;\n",
       "    }\n",
       "</style>\n",
       "<table border=\"1\" class=\"dataframe\">\n",
       "  <thead>\n",
       "    <tr style=\"text-align: right;\">\n",
       "      <th></th>\n",
       "      <th>Team</th>\n",
       "      <th>Rank</th>\n",
       "      <th>Year</th>\n",
       "      <th>Points</th>\n",
       "    </tr>\n",
       "  </thead>\n",
       "  <tbody>\n",
       "    <tr>\n",
       "      <th>0</th>\n",
       "      <td>Riders</td>\n",
       "      <td>1</td>\n",
       "      <td>2014</td>\n",
       "      <td>876</td>\n",
       "    </tr>\n",
       "    <tr>\n",
       "      <th>1</th>\n",
       "      <td>Riders</td>\n",
       "      <td>2</td>\n",
       "      <td>2015</td>\n",
       "      <td>789</td>\n",
       "    </tr>\n",
       "    <tr>\n",
       "      <th>2</th>\n",
       "      <td>Devils</td>\n",
       "      <td>2</td>\n",
       "      <td>2014</td>\n",
       "      <td>863</td>\n",
       "    </tr>\n",
       "    <tr>\n",
       "      <th>3</th>\n",
       "      <td>Devils</td>\n",
       "      <td>3</td>\n",
       "      <td>2015</td>\n",
       "      <td>673</td>\n",
       "    </tr>\n",
       "    <tr>\n",
       "      <th>4</th>\n",
       "      <td>Kings</td>\n",
       "      <td>3</td>\n",
       "      <td>2014</td>\n",
       "      <td>741</td>\n",
       "    </tr>\n",
       "  </tbody>\n",
       "</table>\n",
       "</div>"
      ],
      "text/plain": [
       "     Team  Rank  Year  Points\n",
       "0  Riders     1  2014     876\n",
       "1  Riders     2  2015     789\n",
       "2  Devils     2  2014     863\n",
       "3  Devils     3  2015     673\n",
       "4   Kings     3  2014     741"
      ]
     },
     "execution_count": 51,
     "metadata": {},
     "output_type": "execute_result"
    }
   ],
   "source": [
    "df.head()"
   ]
  },
  {
   "cell_type": "code",
   "execution_count": 56,
   "id": "85e32e15",
   "metadata": {},
   "outputs": [
    {
     "data": {
      "text/plain": [
       "{'Devils': [2, 3], 'Kings': [4, 6, 7], 'Riders': [0, 1, 8, 11], 'Royals': [9, 10], 'kings': [5]}"
      ]
     },
     "execution_count": 56,
     "metadata": {},
     "output_type": "execute_result"
    }
   ],
   "source": [
    "df.groupby('Team').groups"
   ]
  },
  {
   "cell_type": "code",
   "execution_count": 53,
   "id": "e0156938",
   "metadata": {},
   "outputs": [
    {
     "data": {
      "text/plain": [
       "Index(['Team', 'Rank', 'Year', 'Points'], dtype='object')"
      ]
     },
     "execution_count": 53,
     "metadata": {},
     "output_type": "execute_result"
    }
   ],
   "source": [
    "df.columns"
   ]
  },
  {
   "cell_type": "code",
   "execution_count": 54,
   "id": "949e7d6e",
   "metadata": {},
   "outputs": [
    {
     "data": {
      "text/plain": [
       "<AxesSubplot:>"
      ]
     },
     "execution_count": 54,
     "metadata": {},
     "output_type": "execute_result"
    },
    {
     "data": {
      "image/png": "[encoded data removed]",
      "text/plain": [
       "<Figure size 432x288 with 1 Axes>"
      ]
     },
     "metadata": {
      "needs_background": "light"
     },
     "output_type": "display_data"
    }
   ],
   "source": [
    "df.plot.bar()"
   ]
  },
  {
   "cell_type": "code",
   "execution_count": null,
   "id": "35ea1ce8",
   "metadata": {},
   "outputs": [],
   "source": []
  }
 ],
 "metadata": {
  "kernelspec": {
   "display_name": "Python 3",
   "language": "python",
   "name": "python3"
  },
  "language_info": {
   "codemirror_mode": {
    "name": "ipython",
    "version": 3
   },
   "file_extension": ".py",
   "mimetype": "text/x-python",
   "name": "python",
   "nbconvert_exporter": "python",
   "pygments_lexer": "ipython3",
   "version": "3.8.8"
  }
 },
 "nbformat": 4,
 "nbformat_minor": 5
}
