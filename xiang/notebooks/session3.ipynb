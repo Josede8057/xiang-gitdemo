{
 "cells": [
  {
   "cell_type": "markdown",
   "id": "da711fa2",
   "metadata": {
    "id": "da711fa2"
   },
   "source": [
    "# Conditionals"
   ]
  },
  {
   "cell_type": "markdown",
   "id": "ae537f93",
   "metadata": {
    "id": "ae537f93"
   },
   "source": [
    "## Note: Python executes from top to bottom and left to right"
   ]
  },
  {
   "cell_type": "markdown",
   "id": "46fcf0f6",
   "metadata": {
    "id": "46fcf0f6"
   },
   "source": [
    "#Types:\n",
    "\n",
    "if\n",
    "if else\n",
    "multiple if\n",
    "elif"
   ]
  },
  {
   "cell_type": "code",
   "execution_count": 2,
   "id": "5fe83e57",
   "metadata": {
    "id": "5fe83e57"
   },
   "outputs": [],
   "source": [
    "number = 4"
   ]
  },
  {
   "cell_type": "markdown",
   "id": "18b0ba9a",
   "metadata": {
    "id": "18b0ba9a"
   },
   "source": [
    "# elif"
   ]
  },
  {
   "cell_type": "code",
   "execution_count": 3,
   "id": "586f2669",
   "metadata": {
    "id": "586f2669"
   },
   "outputs": [
    {
     "name": "stdout",
     "output_type": "stream",
     "text": [
      "This is an even number\n"
     ]
    }
   ],
   "source": [
    "if number%2 == 0:\n",
    "    print(\"This is an even number\")\n",
    "elif number%3 == 1:\n",
    "    print(\"This is an odd number\")\n",
    "elif number%4 == 0:\n",
    "    print(\"This is a multiple of 3\")\n",
    "else:\n",
    "    print(\"Above conditions are Not satisfied, so default else condition is returned\")"
   ]
  },
  {
   "cell_type": "code",
   "execution_count": null,
   "id": "556aae59",
   "metadata": {},
   "outputs": [],
   "source": [
    "if num%2 == 0:\n",
    "    print(\"This is an even number\")\n",
    "elif num%3 == 1:\n",
    "    print(this si )"
   ]
  },
  {
   "cell_type": "markdown",
   "id": "fdb1decb",
   "metadata": {
    "id": "fdb1decb"
   },
   "source": [
    "# Multiple if"
   ]
  },
  {
   "cell_type": "code",
   "execution_count": 4,
   "id": "4d9e63f9",
   "metadata": {
    "id": "4d9e63f9"
   },
   "outputs": [
    {
     "name": "stdout",
     "output_type": "stream",
     "text": [
      "This is an even number\n",
      "This is an odd number\n",
      "This is a multiple of 3\n"
     ]
    }
   ],
   "source": [
    "if number%2 == 0:\n",
    "    print(\"This is an even number\")\n",
    "if number%3 == 1:\n",
    "    print(\"This is an odd number\")\n",
    "if number%4 == 0:\n",
    "    print(\"This is a multiple of 3\")"
   ]
  },
  {
   "cell_type": "code",
   "execution_count": 5,
   "id": "65c4588c",
   "metadata": {
    "id": "65c4588c"
   },
   "outputs": [
    {
     "data": {
      "text/plain": [
       "0"
      ]
     },
     "execution_count": 5,
     "metadata": {},
     "output_type": "execute_result"
    }
   ],
   "source": [
    "2%2"
   ]
  },
  {
   "cell_type": "code",
   "execution_count": 7,
   "id": "4c932637",
   "metadata": {
    "id": "4c932637"
   },
   "outputs": [
    {
     "data": {
      "text/plain": [
       "1"
      ]
     },
     "execution_count": 7,
     "metadata": {},
     "output_type": "execute_result"
    }
   ],
   "source": [
    "2//2"
   ]
  },
  {
   "cell_type": "markdown",
   "id": "4a5ec156",
   "metadata": {
    "id": "4a5ec156"
   },
   "source": [
    "2//2"
   ]
  },
  {
   "cell_type": "markdown",
   "id": "18ef29d5",
   "metadata": {
    "id": "18ef29d5"
   },
   "source": [
    " ## Looping"
   ]
  },
  {
   "cell_type": "markdown",
   "id": "d93139ac",
   "metadata": {
    "id": "d93139ac"
   },
   "source": [
    "# for, while"
   ]
  },
  {
   "cell_type": "code",
   "execution_count": 15,
   "id": "51b7f5f0",
   "metadata": {
    "id": "51b7f5f0"
   },
   "outputs": [
    {
     "ename": "IndentationError",
     "evalue": "expected an indented block (<ipython-input-15-b76f0af150df>, line 3)",
     "output_type": "error",
     "traceback": [
      "\u001b[1;36m  File \u001b[1;32m\"<ipython-input-15-b76f0af150df>\"\u001b[1;36m, line \u001b[1;32m3\u001b[0m\n\u001b[1;33m    print(char)\u001b[0m\n\u001b[1;37m               ^\u001b[0m\n\u001b[1;31mIndentationError\u001b[0m\u001b[1;31m:\u001b[0m expected an indented block\n"
     ]
    }
   ],
   "source": [
    "for char in 'bangalore':\n",
    "    if char == 'a':\n",
    "print(char)"
   ]
  },
  {
   "cell_type": "code",
   "execution_count": 16,
   "id": "5e976bfd",
   "metadata": {
    "id": "5e976bfd"
   },
   "outputs": [
    {
     "name": "stdout",
     "output_type": "stream",
     "text": [
      "1\n",
      "2\n",
      "3\n",
      "4\n",
      "5\n",
      "6\n",
      "7\n",
      "8\n",
      "9\n",
      "10\n"
     ]
    }
   ],
   "source": [
    "for num in range(1, 11):\n",
    "    print(num)"
   ]
  },
  {
   "cell_type": "code",
   "execution_count": 17,
   "id": "2086bf88",
   "metadata": {
    "id": "2086bf88"
   },
   "outputs": [
    {
     "name": "stdout",
     "output_type": "stream",
     "text": [
      "num 1 is odd\n",
      "num 2 is even\n",
      "num 3 is odd\n",
      "num 4 is even\n",
      "num 5 is odd\n",
      "num 6 is even\n",
      "num 7 is odd\n",
      "num 8 is even\n",
      "num 9 is odd\n",
      "num 10 is even\n"
     ]
    }
   ],
   "source": [
    "for num in range(1, 11):\n",
    "    if num%2 == 0:\n",
    "        print('num {} is even'.format(num)) # String formatting\n",
    "    elif num%2 == 1:\n",
    "        print(f'num {num} is odd')"
   ]
  },
  {
   "cell_type": "code",
   "execution_count": 18,
   "id": "5ed9e4f3",
   "metadata": {
    "id": "5ed9e4f3"
   },
   "outputs": [],
   "source": [
    "num = 1"
   ]
  },
  {
   "cell_type": "code",
   "execution_count": null,
   "id": "502e4583",
   "metadata": {
    "id": "502e4583"
   },
   "outputs": [],
   "source": [
    "num = 1\n",
    "while 1 < 5:\n",
    "    print(\"before\", num)\n",
    "    num -= 1\n",
    "    print(\"after\", num)"
   ]
  },
  {
   "cell_type": "code",
   "execution_count": null,
   "id": "aba4bfdc",
   "metadata": {
    "id": "aba4bfdc"
   },
   "outputs": [],
   "source": [
    "i = 1\n",
    "while i < 6:\n",
    "    print(i)\n",
    "    i +=1 "
   ]
  },
  {
   "cell_type": "code",
   "execution_count": null,
   "id": "76b6e453",
   "metadata": {},
   "outputs": [],
   "source": [
    "i = 1\n",
    "while i < 6:\n",
    "    print(i)\n",
    "    if i == 3:\n",
    "        break\n",
    "    i += 1"
   ]
  },
  {
   "cell_type": "markdown",
   "id": "e66d76fe",
   "metadata": {
    "id": "e66d76fe"
   },
   "source": [
    "# Data Structures"
   ]
  },
  {
   "cell_type": "markdown",
   "id": "d3372e84",
   "metadata": {
    "id": "d3372e84"
   },
   "source": [
    "# Types: list, tuple, dictionary, set"
   ]
  },
  {
   "cell_type": "markdown",
   "id": "8b680bda",
   "metadata": {
    "id": "8b680bda"
   },
   "source": [
    "# List:\n",
    "ordered collection of heterogeneous elements of different types\n",
    "Indexing (-ve and +ve)\n",
    "\n",
    "Mutable, means you can change the list after creating"
   ]
  },
  {
   "cell_type": "code",
   "execution_count": null,
   "id": "86d6b265",
   "metadata": {
    "id": "86d6b265"
   },
   "outputs": [],
   "source": [
    "cities = ['bangalore', 'hyderabad', 'newyork', 'shangai', 'dhubhai']"
   ]
  },
  {
   "cell_type": "code",
   "execution_count": null,
   "id": "50712af7",
   "metadata": {
    "id": "50712af7",
    "outputId": "15b01fda-16e5-49b5-878d-60b9635ac682"
   },
   "outputs": [],
   "source": [
    "cities[-3]"
   ]
  },
  {
   "cell_type": "code",
   "execution_count": null,
   "id": "8a77cfa4",
   "metadata": {
    "id": "8a77cfa4",
    "outputId": "a2e95a53-1aa0-484f-b0de-98d35c19be2d"
   },
   "outputs": [
    {
     "data": {
      "text/plain": [
       "['bangalore', 'newyork', 'dhubhai']"
      ]
     },
     "execution_count": 10,
     "metadata": {},
     "output_type": "execute_result"
    }
   ],
   "source": [
    "cities[::2]"
   ]
  },
  {
   "cell_type": "code",
   "execution_count": null,
   "id": "4189c611",
   "metadata": {
    "id": "4189c611"
   },
   "outputs": [],
   "source": [
    "['hyderabad', 'newyork', 'shangai']"
   ]
  },
  {
   "cell_type": "code",
   "execution_count": null,
   "id": "634885de",
   "metadata": {
    "id": "634885de"
   },
   "outputs": [],
   "source": [
    "['bangalore', 'newyork', 'dhubhai']"
   ]
  },
  {
   "cell_type": "code",
   "execution_count": null,
   "id": "607f36a1",
   "metadata": {
    "id": "607f36a1",
    "outputId": "c247c4a0-2c3b-44ed-c4ba-8c4fd05c25cf"
   },
   "outputs": [
    {
     "data": {
      "text/plain": [
       "1"
      ]
     },
     "execution_count": 11,
     "metadata": {},
     "output_type": "execute_result"
    }
   ],
   "source": [
    "cities.index('hyderabad')"
   ]
  },
  {
   "cell_type": "code",
   "execution_count": null,
   "id": "7ce0ae21",
   "metadata": {
    "id": "7ce0ae21"
   },
   "outputs": [],
   "source": [
    "cities.append('california')"
   ]
  },
  {
   "cell_type": "code",
   "execution_count": null,
   "id": "f85c884a",
   "metadata": {
    "id": "f85c884a",
    "outputId": "65c8bc95-22f2-464e-a7f7-e60ad602e320"
   },
   "outputs": [
    {
     "data": {
      "text/plain": [
       "['bangalore', 'hyderabad', 'newyork', 'shangai', 'dhubhai', 'california']"
      ]
     },
     "execution_count": 13,
     "metadata": {},
     "output_type": "execute_result"
    }
   ],
   "source": [
    "cities"
   ]
  },
  {
   "cell_type": "code",
   "execution_count": null,
   "id": "852e6cc8",
   "metadata": {
    "id": "852e6cc8"
   },
   "outputs": [],
   "source": [
    "cities1 = ['chennai', 'delhi', 'san fransisco', 'chicago']"
   ]
  },
  {
   "cell_type": "code",
   "execution_count": null,
   "id": "da7091cc",
   "metadata": {
    "id": "da7091cc"
   },
   "outputs": [],
   "source": [
    "cities.extend(cities1)"
   ]
  },
  {
   "cell_type": "code",
   "execution_count": null,
   "id": "898e0aee",
   "metadata": {
    "id": "898e0aee",
    "outputId": "48370175-4d63-4424-df2d-935dd94fdd1e"
   },
   "outputs": [
    {
     "data": {
      "text/plain": [
       "['bangalore',\n",
       " 'hyderabad',\n",
       " 'newyork',\n",
       " 'shangai',\n",
       " 'dhubhai',\n",
       " 'california',\n",
       " 'chennai',\n",
       " 'delhi',\n",
       " 'san fransisco',\n",
       " 'chicago']"
      ]
     },
     "execution_count": 16,
     "metadata": {},
     "output_type": "execute_result"
    }
   ],
   "source": [
    "cities"
   ]
  },
  {
   "cell_type": "code",
   "execution_count": null,
   "id": "5dd29eed",
   "metadata": {
    "id": "5dd29eed"
   },
   "outputs": [],
   "source": [
    "cities2 = ['seattle', 'Beijing', 'London', 'paris']"
   ]
  },
  {
   "cell_type": "code",
   "execution_count": null,
   "id": "c1a4e148",
   "metadata": {
    "id": "c1a4e148"
   },
   "outputs": [],
   "source": [
    "cities.append(cities2)"
   ]
  },
  {
   "cell_type": "code",
   "execution_count": null,
   "id": "584adee2",
   "metadata": {
    "id": "584adee2",
    "outputId": "7ad23677-dd8f-4fa0-ab3b-922a3edf16a8"
   },
   "outputs": [
    {
     "data": {
      "text/plain": [
       "['bangalore',\n",
       " 'hyderabad',\n",
       " 'newyork',\n",
       " 'shangai',\n",
       " 'dhubhai',\n",
       " 'california',\n",
       " 'chennai',\n",
       " 'delhi',\n",
       " 'san fransisco',\n",
       " 'chicago',\n",
       " ['seattle', 'Beijing', 'London', 'paris']]"
      ]
     },
     "execution_count": 19,
     "metadata": {},
     "output_type": "execute_result"
    }
   ],
   "source": [
    "cities"
   ]
  },
  {
   "cell_type": "code",
   "execution_count": null,
   "id": "99d85db7",
   "metadata": {
    "id": "99d85db7",
    "outputId": "f3787fb8-34a0-4588-f6de-35e740891424"
   },
   "outputs": [
    {
     "data": {
      "text/plain": [
       "11"
      ]
     },
     "execution_count": 21,
     "metadata": {},
     "output_type": "execute_result"
    }
   ],
   "source": [
    "len(cities)"
   ]
  },
  {
   "cell_type": "code",
   "execution_count": null,
   "id": "2125cf02",
   "metadata": {
    "id": "2125cf02"
   },
   "outputs": [],
   "source": [
    "cities.append(1)"
   ]
  },
  {
   "cell_type": "code",
   "execution_count": null,
   "id": "5715159e",
   "metadata": {
    "id": "5715159e",
    "outputId": "bd3950e1-66f2-4c38-c380-e1e8aef12c7b"
   },
   "outputs": [
    {
     "data": {
      "text/plain": [
       "['bangalore',\n",
       " 'hyderabad',\n",
       " 'newyork',\n",
       " 'shangai',\n",
       " 'dhubhai',\n",
       " 'california',\n",
       " 'chennai',\n",
       " 'delhi',\n",
       " 'san fransisco',\n",
       " 'chicago',\n",
       " ['seattle', 'Beijing', 'London', 'paris'],\n",
       " 1]"
      ]
     },
     "execution_count": 23,
     "metadata": {},
     "output_type": "execute_result"
    }
   ],
   "source": [
    "cities"
   ]
  },
  {
   "cell_type": "code",
   "execution_count": null,
   "id": "7842edbc",
   "metadata": {
    "id": "7842edbc",
    "outputId": "60dd12b1-285f-43e9-ced9-325fb5a56488"
   },
   "outputs": [
    {
     "data": {
      "text/plain": [
       "[1,\n",
       " ['seattle', 'Beijing', 'London', 'paris'],\n",
       " 'chicago',\n",
       " 'san fransisco',\n",
       " 'delhi',\n",
       " 'chennai',\n",
       " 'california',\n",
       " 'dhubhai',\n",
       " 'shangai',\n",
       " 'newyork',\n",
       " 'hyderabad',\n",
       " 'bangalore']"
      ]
     },
     "execution_count": 30,
     "metadata": {},
     "output_type": "execute_result"
    }
   ],
   "source": [
    "cities[::-1] # Reverse a string"
   ]
  },
  {
   "cell_type": "code",
   "execution_count": null,
   "id": "af634f5d",
   "metadata": {
    "id": "af634f5d"
   },
   "outputs": [],
   "source": [
    "positive_indexes [0,1,2,3,....]\n",
    "negative_indexes [....,-3,-2,-1]"
   ]
  },
  {
   "cell_type": "markdown",
   "id": "56a17929",
   "metadata": {
    "id": "56a17929"
   },
   "source": [
    "## Tuple"
   ]
  },
  {
   "cell_type": "markdown",
   "id": "3aaba626",
   "metadata": {
    "id": "3aaba626"
   },
   "source": [
    "Immutable\n",
    "ordered\n",
    "heterogeneous\n",
    "it can be used as a key for dictionary"
   ]
  },
  {
   "cell_type": "code",
   "execution_count": null,
   "id": "db54c5fa",
   "metadata": {
    "id": "db54c5fa"
   },
   "outputs": [],
   "source": [
    "numbers = (1,2,3,4)"
   ]
  },
  {
   "cell_type": "markdown",
   "id": "be051b7a",
   "metadata": {
    "id": "be051b7a"
   },
   "source": [
    "## Dictionary"
   ]
  },
  {
   "cell_type": "markdown",
   "id": "c918998f",
   "metadata": {
    "id": "c918998f"
   },
   "source": [
    "key value pairs\n",
    "separate with comma (,)\n",
    "key and value separate with colon (:)\n",
    "Un unordered collection of data\n",
    "the keys are immutable"
   ]
  },
  {
   "cell_type": "code",
   "execution_count": null,
   "id": "05908b89",
   "metadata": {
    "id": "05908b89"
   },
   "outputs": [],
   "source": [
    "employee_details = {'name':'Kiran',\n",
    "                   'age': 20,\n",
    "                   'salary':40000,\n",
    "                   'phone_numer': 12233442233}"
   ]
  },
  {
   "cell_type": "code",
   "execution_count": null,
   "id": "db5db3a3",
   "metadata": {
    "id": "db5db3a3",
    "outputId": "d150d74a-52ab-4353-9af1-a55407ca9974"
   },
   "outputs": [
    {
     "data": {
      "text/plain": [
       "{'name': 'Kiran', 'age': 20, 'salary': 40000, 'phone_numer': 12233442233}"
      ]
     },
     "execution_count": 35,
     "metadata": {},
     "output_type": "execute_result"
    }
   ],
   "source": [
    "employee_details"
   ]
  },
  {
   "cell_type": "code",
   "execution_count": null,
   "id": "39563622",
   "metadata": {
    "id": "39563622",
    "outputId": "b9655dcd-9a5e-4dea-8aaf-3e17753b5bb7"
   },
   "outputs": [
    {
     "data": {
      "text/plain": [
       "dict"
      ]
     },
     "execution_count": 34,
     "metadata": {},
     "output_type": "execute_result"
    }
   ],
   "source": [
    "type(employee_details)"
   ]
  },
  {
   "cell_type": "code",
   "execution_count": null,
   "id": "4335e1d0",
   "metadata": {
    "id": "4335e1d0",
    "outputId": "be06853f-cb39-4889-ee5f-65c57747be46"
   },
   "outputs": [
    {
     "data": {
      "text/plain": [
       "'Kiran'"
      ]
     },
     "execution_count": 38,
     "metadata": {},
     "output_type": "execute_result"
    }
   ],
   "source": [
    "employee_details['name']"
   ]
  },
  {
   "cell_type": "code",
   "execution_count": null,
   "id": "81cc366d",
   "metadata": {
    "id": "81cc366d",
    "outputId": "e47e020a-ef5f-448c-ced1-5b79846d6790"
   },
   "outputs": [
    {
     "data": {
      "text/plain": [
       "dict_keys(['name', 'age', 'salary', 'phone_numer'])"
      ]
     },
     "execution_count": 39,
     "metadata": {},
     "output_type": "execute_result"
    }
   ],
   "source": [
    "details = employee_details.keys()"
   ]
  },
  {
   "cell_type": "code",
   "execution_count": null,
   "id": "c3c4e42a",
   "metadata": {
    "id": "c3c4e42a",
    "outputId": "1bf85065-f594-4c8e-aee9-535971ca8bcb"
   },
   "outputs": [
    {
     "data": {
      "text/plain": [
       "dict_values"
      ]
     },
     "execution_count": 43,
     "metadata": {},
     "output_type": "execute_result"
    }
   ],
   "source": [
    "type(employee_details.values())"
   ]
  },
  {
   "cell_type": "markdown",
   "id": "85ebf951",
   "metadata": {
    "id": "85ebf951"
   },
   "source": [
    "Assignment:\n",
    "\n",
    "list = ['bangalore', 'hyderabad', 'newyork', 'shangai', 'dhubhai']\n",
    "1. Find the count of elements inside a list\n",
    "2. Convert each element to uppercase in a list\n",
    "3. Convert each element to lowercase in a list\n",
    "4. Convert each element to camelcase in a list\n",
    "5. Find the prime numbers from 1 to 100\n",
    "6. Print the elements staring with 'b' in a list\n",
    "7. Print the elements ending with 'i' in a list\n",
    "8. Print the alternate values from alist\n",
    "9. reverse the string"
   ]
  },
  {
   "cell_type": "code",
   "execution_count": null,
   "id": "de71a4fd",
   "metadata": {
    "id": "de71a4fd",
    "outputId": "507f4d73-c8e7-44c7-afd6-a383633a5768"
   },
   "outputs": [
    {
     "data": {
      "text/plain": [
       "'/Users/ravidevineni/Desktop/DE_Training/7_11_22/Notebooks'"
      ]
     },
     "execution_count": 44,
     "metadata": {},
     "output_type": "execute_result"
    }
   ],
   "source": [
    "pwd"
   ]
  },
  {
   "cell_type": "code",
   "execution_count": null,
   "id": "73859f6a",
   "metadata": {
    "id": "73859f6a"
   },
   "outputs": [],
   "source": []
  },
  {
   "cell_type": "code",
   "execution_count": null,
   "id": "f855c868",
   "metadata": {
    "id": "f855c868"
   },
   "outputs": [],
   "source": []
  },
  {
   "cell_type": "code",
   "execution_count": null,
   "id": "f2d6bc9e",
   "metadata": {
    "id": "f2d6bc9e"
   },
   "outputs": [],
   "source": []
  },
  {
   "cell_type": "code",
   "execution_count": null,
   "id": "d7232df3",
   "metadata": {
    "id": "d7232df3"
   },
   "outputs": [],
   "source": []
  },
  {
   "cell_type": "code",
   "execution_count": null,
   "id": "430455c7",
   "metadata": {
    "id": "430455c7"
   },
   "outputs": [],
   "source": []
  },
  {
   "cell_type": "code",
   "execution_count": null,
   "id": "e3a73ebc",
   "metadata": {
    "id": "e3a73ebc"
   },
   "outputs": [],
   "source": []
  },
  {
   "cell_type": "code",
   "execution_count": null,
   "id": "9210c59f",
   "metadata": {
    "id": "9210c59f"
   },
   "outputs": [],
   "source": []
  },
  {
   "cell_type": "code",
   "execution_count": null,
   "id": "1a6792bb",
   "metadata": {
    "id": "1a6792bb"
   },
   "outputs": [],
   "source": []
  },
  {
   "cell_type": "code",
   "execution_count": null,
   "id": "cde50315",
   "metadata": {
    "id": "cde50315"
   },
   "outputs": [],
   "source": []
  }
 ],
 "metadata": {
  "colab": {
   "name": "session3.ipynb",
   "provenance": []
  },
  "kernelspec": {
   "display_name": "Python 3",
   "language": "python",
   "name": "python3"
  },
  "language_info": {
   "codemirror_mode": {
    "name": "ipython",
    "version": 3
   },
   "file_extension": ".py",
   "mimetype": "text/x-python",
   "name": "python",
   "nbconvert_exporter": "python",
   "pygments_lexer": "ipython3",
   "version": "3.8.10"
  }
 },
 "nbformat": 4,
 "nbformat_minor": 5
}
