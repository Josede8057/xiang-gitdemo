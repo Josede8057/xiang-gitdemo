{
 "cells": [
  {
   "cell_type": "markdown",
   "id": "448b20e1",
   "metadata": {
    "id": "448b20e1"
   },
   "source": [
    "## Comprehensions"
   ]
  },
  {
   "cell_type": "code",
   "execution_count": 1,
   "id": "065194f5",
   "metadata": {
    "id": "065194f5"
   },
   "outputs": [],
   "source": [
    "int_list = range(10)"
   ]
  },
  {
   "cell_type": "code",
   "execution_count": 2,
   "id": "ab7005ea",
   "metadata": {
    "id": "ab7005ea",
    "outputId": "efab5802-ea36-4b6a-e1d5-cca93347d31e"
   },
   "outputs": [
    {
     "name": "stdout",
     "output_type": "stream",
     "text": [
      "0\n",
      "1\n",
      "2\n",
      "3\n",
      "4\n",
      "5\n",
      "6\n",
      "7\n",
      "8\n",
      "9\n"
     ]
    }
   ],
   "source": [
    "for _ in range(10):\n",
    "    print(_)"
   ]
  },
  {
   "cell_type": "code",
   "execution_count": 3,
   "id": "7aabcfef",
   "metadata": {
    "id": "7aabcfef"
   },
   "outputs": [],
   "source": [
    "even_list = [num for num in int_list if num%2==0]"
   ]
  },
  {
   "cell_type": "code",
   "execution_count": 4,
   "id": "f2c65f3a",
   "metadata": {
    "id": "f2c65f3a",
    "outputId": "936b8c45-e4b9-4632-c1ce-1e14c9628eeb"
   },
   "outputs": [
    {
     "data": {
      "text/plain": [
       "[0, 2, 4, 6, 8]"
      ]
     },
     "execution_count": 4,
     "metadata": {},
     "output_type": "execute_result"
    }
   ],
   "source": [
    "even_list"
   ]
  },
  {
   "cell_type": "code",
   "execution_count": 5,
   "id": "9b5f81de",
   "metadata": {
    "id": "9b5f81de"
   },
   "outputs": [],
   "source": [
    "odd_list = [num for num in int_list if num%2!=0]"
   ]
  },
  {
   "cell_type": "code",
   "execution_count": 6,
   "id": "6304fd9c",
   "metadata": {
    "id": "6304fd9c",
    "outputId": "c5c563f8-e197-48a7-a319-86e2aa20f6a0"
   },
   "outputs": [
    {
     "data": {
      "text/plain": [
       "[1, 3, 5, 7, 9]"
      ]
     },
     "execution_count": 6,
     "metadata": {},
     "output_type": "execute_result"
    }
   ],
   "source": [
    "odd_list"
   ]
  },
  {
   "cell_type": "code",
   "execution_count": 7,
   "id": "c4e0f904",
   "metadata": {
    "id": "c4e0f904"
   },
   "outputs": [],
   "source": [
    "dict_compr = {x:x**2 for x in range(10)}"
   ]
  },
  {
   "cell_type": "code",
   "execution_count": 8,
   "id": "dbf16d9f",
   "metadata": {
    "id": "dbf16d9f",
    "outputId": "2e50a2e3-07f6-4e43-9f4c-a6e344944e0a"
   },
   "outputs": [
    {
     "data": {
      "text/plain": [
       "{0: 0, 1: 1, 2: 4, 3: 9, 4: 16, 5: 25, 6: 36, 7: 49, 8: 64, 9: 81}"
      ]
     },
     "execution_count": 8,
     "metadata": {},
     "output_type": "execute_result"
    }
   ],
   "source": [
    "dict_compr"
   ]
  },
  {
   "cell_type": "code",
   "execution_count": 9,
   "id": "c4a565c4",
   "metadata": {
    "id": "c4a565c4"
   },
   "outputs": [],
   "source": [
    "dict_compr = {x:y for x,y in zip(range(10),range(10))}"
   ]
  },
  {
   "cell_type": "code",
   "execution_count": null,
   "id": "6512e13f",
   "metadata": {
    "id": "6512e13f",
    "outputId": "b063cf67-0aef-4ba3-9469-fe5e20a5289a"
   },
   "outputs": [
    {
     "data": {
      "text/plain": [
       "{0: 0, 1: 1, 2: 2, 3: 3, 4: 4, 5: 5, 6: 6, 7: 7, 8: 8, 9: 9}"
      ]
     },
     "execution_count": 12,
     "metadata": {},
     "output_type": "execute_result"
    }
   ],
   "source": [
    "dict_compr"
   ]
  },
  {
   "cell_type": "markdown",
   "id": "ca8fbd48",
   "metadata": {
    "id": "ca8fbd48"
   },
   "source": [
    "## File Operations"
   ]
  },
  {
   "cell_type": "markdown",
   "id": "1446ee86",
   "metadata": {
    "id": "1446ee86"
   },
   "source": [
    "# It can be used to read, write and append data into different type of files"
   ]
  },
  {
   "cell_type": "markdown",
   "id": "3689b297",
   "metadata": {
    "id": "3689b297"
   },
   "source": [
    "modes:\n",
    "read()\n",
    "write()\n",
    "append()"
   ]
  },
  {
   "cell_type": "code",
   "execution_count": 14,
   "id": "3c6bb97b",
   "metadata": {
    "id": "3c6bb97b"
   },
   "outputs": [],
   "source": [
    "fp = open('sample.txt', 'w') # default mode to open a file is read"
   ]
  },
  {
   "cell_type": "code",
   "execution_count": 15,
   "id": "3e393c12",
   "metadata": {
    "id": "3e393c12",
    "outputId": "5edf1459-a0b1-4e9a-d441-6d4cd5967474"
   },
   "outputs": [
    {
     "data": {
      "text/plain": [
       "26"
      ]
     },
     "execution_count": 15,
     "metadata": {},
     "output_type": "execute_result"
    }
   ],
   "source": [
    "fp.write(\"This is my first text file\")"
   ]
  },
  {
   "cell_type": "code",
   "execution_count": 16,
   "id": "d3ee4413",
   "metadata": {
    "id": "d3ee4413"
   },
   "outputs": [],
   "source": [
    "fp.close()"
   ]
  },
  {
   "cell_type": "code",
   "execution_count": 17,
   "id": "289038a4",
   "metadata": {
    "id": "289038a4"
   },
   "outputs": [],
   "source": [
    "fp = open('sample.txt', 'r') # default mode to open a file is read"
   ]
  },
  {
   "cell_type": "code",
   "execution_count": 18,
   "id": "84772f8d",
   "metadata": {
    "id": "84772f8d"
   },
   "outputs": [],
   "source": [
    "lines = fp.readlines()"
   ]
  },
  {
   "cell_type": "code",
   "execution_count": 19,
   "id": "39ea85b8",
   "metadata": {
    "id": "39ea85b8",
    "outputId": "d43daf5d-136b-4755-94b8-be75f8426831"
   },
   "outputs": [
    {
     "name": "stdout",
     "output_type": "stream",
     "text": [
      "['This is my first text file']\n"
     ]
    }
   ],
   "source": [
    "print(lines)"
   ]
  },
  {
   "cell_type": "code",
   "execution_count": null,
   "id": "788ce038",
   "metadata": {
    "id": "788ce038"
   },
   "outputs": [],
   "source": [
    "fp = open('sample.txt', 'a') # default mode to open a file is read"
   ]
  },
  {
   "cell_type": "code",
   "execution_count": null,
   "id": "d9e1580b",
   "metadata": {
    "id": "d9e1580b",
    "outputId": "e2443f3b-34f6-40ab-fbe5-82192f23bed9"
   },
   "outputs": [
    {
     "ename": "AttributeError",
     "evalue": "'_io.TextIOWrapper' object has no attribute 'append'",
     "output_type": "error",
     "traceback": [
      "\u001b[0;31m---------------------------------------------------------------------------\u001b[0m",
      "\u001b[0;31mAttributeError\u001b[0m                            Traceback (most recent call last)",
      "\u001b[0;32m<ipython-input-62-342d2f76eeaf>\u001b[0m in \u001b[0;36m<module>\u001b[0;34m\u001b[0m\n\u001b[0;32m----> 1\u001b[0;31m \u001b[0mfp\u001b[0m\u001b[0;34m.\u001b[0m\u001b[0mappend\u001b[0m\u001b[0;34m(\u001b[0m\u001b[0;34m\"\\nWriting second line into the file\"\u001b[0m\u001b[0;34m)\u001b[0m\u001b[0;34m\u001b[0m\u001b[0;34m\u001b[0m\u001b[0m\n\u001b[0m",
      "\u001b[0;31mAttributeError\u001b[0m: '_io.TextIOWrapper' object has no attribute 'append'"
     ]
    }
   ],
   "source": []
  },
  {
   "cell_type": "code",
   "execution_count": null,
   "id": "42b7679f",
   "metadata": {
    "id": "42b7679f"
   },
   "outputs": [],
   "source": [
    "fp.close()"
   ]
  },
  {
   "cell_type": "code",
   "execution_count": null,
   "id": "a6885c3b",
   "metadata": {
    "id": "a6885c3b"
   },
   "outputs": [],
   "source": [
    "fp = open('sample.txt', 'r') # default mode to open a file is read"
   ]
  },
  {
   "cell_type": "code",
   "execution_count": null,
   "id": "1689e852",
   "metadata": {
    "id": "1689e852",
    "outputId": "70e64881-0363-49a5-9315-7f74b95385c0"
   },
   "outputs": [
    {
     "name": "stdout",
     "output_type": "stream",
     "text": [
      "This is my first text fileWriting another line into the file\n",
      "\n",
      "Writing second line into the file\n"
     ]
    }
   ],
   "source": [
    "for line in fp.readlines():\n",
    "    print(line)"
   ]
  },
  {
   "cell_type": "markdown",
   "id": "6b0f0824",
   "metadata": {
    "id": "6b0f0824"
   },
   "source": [
    "# Open file using with statement"
   ]
  },
  {
   "cell_type": "code",
   "execution_count": null,
   "id": "67084564",
   "metadata": {
    "id": "67084564",
    "outputId": "acedc3e7-5369-4ebf-e2f1-994b76f5145c"
   },
   "outputs": [
    {
     "name": "stdout",
     "output_type": "stream",
     "text": [
      "This is my first text fileWriting another line into the file\n",
      "\n",
      "Writing second line into the file\n"
     ]
    }
   ],
   "source": [
    "with open('sample.txt') as fr1:\n",
    "    for line in fr1.readlines():\n",
    "        print(line)"
   ]
  },
  {
   "cell_type": "code",
   "execution_count": null,
   "id": "c9a9f65e",
   "metadata": {
    "id": "c9a9f65e"
   },
   "outputs": [],
   "source": []
  },
  {
   "cell_type": "markdown",
   "id": "5c9e3ead",
   "metadata": {
    "id": "5c9e3ead"
   },
   "source": [
    "## Lambda Functions"
   ]
  },
  {
   "cell_type": "code",
   "execution_count": null,
   "id": "3c5b4df1",
   "metadata": {
    "id": "3c5b4df1"
   },
   "outputs": [],
   "source": [
    "x = lambda num: num+10"
   ]
  },
  {
   "cell_type": "code",
   "execution_count": null,
   "id": "7a5c48f2",
   "metadata": {
    "id": "7a5c48f2",
    "outputId": "268f0fae-b1a8-438b-8d62-57cf8d87eca8"
   },
   "outputs": [
    {
     "data": {
      "text/plain": [
       "15"
      ]
     },
     "execution_count": 32,
     "metadata": {},
     "output_type": "execute_result"
    }
   ],
   "source": [
    "x(5)"
   ]
  },
  {
   "cell_type": "markdown",
   "id": "02cd99c4",
   "metadata": {
    "id": "02cd99c4"
   },
   "source": [
    "# Lambda is nothing but an anonymous function which can take input parameteres and perform operations to provide the results"
   ]
  },
  {
   "cell_type": "code",
   "execution_count": null,
   "id": "1f4a8f4e",
   "metadata": {
    "id": "1f4a8f4e"
   },
   "outputs": [],
   "source": [
    "x = lambda num1,num2: num1 + num2"
   ]
  },
  {
   "cell_type": "code",
   "execution_count": null,
   "id": "29554a99",
   "metadata": {
    "id": "29554a99",
    "outputId": "1cfd4a73-55b3-41b7-e733-851425c714c6"
   },
   "outputs": [
    {
     "data": {
      "text/plain": [
       "14"
      ]
     },
     "execution_count": 34,
     "metadata": {},
     "output_type": "execute_result"
    }
   ],
   "source": [
    "x(4,10)"
   ]
  },
  {
   "cell_type": "markdown",
   "id": "8a18a33a",
   "metadata": {
    "id": "8a18a33a"
   },
   "source": [
    "# Filter, Map and Reduce"
   ]
  },
  {
   "cell_type": "markdown",
   "id": "baf88e05",
   "metadata": {
    "id": "baf88e05"
   },
   "source": [
    "# Filter"
   ]
  },
  {
   "cell_type": "code",
   "execution_count": null,
   "id": "0b3df80f",
   "metadata": {
    "id": "0b3df80f"
   },
   "outputs": [],
   "source": [
    "even_nums = filter(lambda x:x>2, [1,2,3,4])"
   ]
  },
  {
   "cell_type": "code",
   "execution_count": null,
   "id": "1234964b",
   "metadata": {
    "id": "1234964b",
    "outputId": "595fa1db-6620-40ec-fd4e-dde8d5246f04"
   },
   "outputs": [
    {
     "data": {
      "text/plain": [
       "<filter at 0x10319a550>"
      ]
     },
     "execution_count": 43,
     "metadata": {},
     "output_type": "execute_result"
    }
   ],
   "source": [
    "even_nums"
   ]
  },
  {
   "cell_type": "code",
   "execution_count": null,
   "id": "ee44258b",
   "metadata": {
    "id": "ee44258b",
    "outputId": "e2aabfcf-bd79-420c-cc01-811641d9f45d"
   },
   "outputs": [
    {
     "name": "stdout",
     "output_type": "stream",
     "text": [
      "3\n",
      "4\n"
     ]
    }
   ],
   "source": [
    "for x in even_nums:\n",
    "    print(x)"
   ]
  },
  {
   "cell_type": "code",
   "execution_count": 10,
   "id": "9915ca6c",
   "metadata": {
    "id": "9915ca6c"
   },
   "outputs": [],
   "source": [
    "int_list = [1,2,3,4,5]"
   ]
  },
  {
   "cell_type": "code",
   "execution_count": 11,
   "id": "fedd308b",
   "metadata": {
    "id": "fedd308b"
   },
   "outputs": [],
   "source": [
    "squares = map(lambda x:x**2, int_list)"
   ]
  },
  {
   "cell_type": "code",
   "execution_count": null,
   "id": "3a9f9d58",
   "metadata": {
    "id": "3a9f9d58",
    "outputId": "54354a5c-ad49-4cf4-bc00-46b207f4d160"
   },
   "outputs": [
    {
     "name": "stdout",
     "output_type": "stream",
     "text": [
      "1\n",
      "4\n",
      "9\n",
      "16\n",
      "25\n"
     ]
    }
   ],
   "source": [
    "for x in squares:\n",
    "    print(x)"
   ]
  },
  {
   "cell_type": "code",
   "execution_count": 12,
   "id": "9996285d",
   "metadata": {
    "id": "9996285d"
   },
   "outputs": [],
   "source": [
    "from functools import reduce"
   ]
  },
  {
   "cell_type": "code",
   "execution_count": 13,
   "id": "d892336e",
   "metadata": {
    "id": "d892336e"
   },
   "outputs": [],
   "source": [
    "total = reduce((lambda x, y: x+y), [1,3,5, 10])"
   ]
  },
  {
   "cell_type": "code",
   "execution_count": 14,
   "id": "ba15126d",
   "metadata": {
    "id": "ba15126d",
    "outputId": "5fa758e2-33d3-4948-c24a-216b83d33e72"
   },
   "outputs": [
    {
     "data": {
      "text/plain": [
       "19"
      ]
     },
     "execution_count": 14,
     "metadata": {},
     "output_type": "execute_result"
    }
   ],
   "source": [
    "total"
   ]
  },
  {
   "cell_type": "code",
   "execution_count": null,
   "id": "96dbcb9c",
   "metadata": {
    "id": "96dbcb9c"
   },
   "outputs": [],
   "source": [
    "product = reduce((lambda x, y: x*y), [1,3,5, 10])"
   ]
  },
  {
   "cell_type": "code",
   "execution_count": null,
   "id": "d3be7b32",
   "metadata": {
    "id": "d3be7b32",
    "outputId": "ac570005-e698-4642-e596-c3c3d1759172"
   },
   "outputs": [
    {
     "data": {
      "text/plain": [
       "150"
      ]
     },
     "execution_count": 56,
     "metadata": {},
     "output_type": "execute_result"
    }
   ],
   "source": [
    "product"
   ]
  },
  {
   "cell_type": "markdown",
   "id": "547cdf6c",
   "metadata": {
    "id": "547cdf6c"
   },
   "source": [
    "# Assignment\n",
    "1. get all the even numbers from a list using lambda\n",
    "2. get multiples of 3 for values inside a list using lambda\n",
    "3. filter multiples of 2 from a given list using lambda\n",
    "4. open a file and write all the details of employee like first_name, last_name, address, designation, etc.,\n",
    "5. read a file and find the most occured word --- important\n"
   ]
  },
  {
   "cell_type": "code",
   "execution_count": null,
   "id": "b240020e",
   "metadata": {
    "id": "b240020e"
   },
   "outputs": [],
   "source": [
    "sentence = \"get all the even numbers from a list using lambda\""
   ]
  },
  {
   "cell_type": "markdown",
   "id": "2f03b1df",
   "metadata": {
    "id": "2f03b1df"
   },
   "source": [
    "## split and join functions"
   ]
  },
  {
   "cell_type": "code",
   "execution_count": null,
   "id": "cc5398b1",
   "metadata": {
    "id": "cc5398b1"
   },
   "outputs": [],
   "source": [
    "words = sentence.split()"
   ]
  },
  {
   "cell_type": "code",
   "execution_count": null,
   "id": "325c4870",
   "metadata": {
    "id": "325c4870",
    "outputId": "87d2de16-d8ac-4021-80e6-7678cbbb736a"
   },
   "outputs": [
    {
     "data": {
      "text/plain": [
       "['get',\n",
       " 'all',\n",
       " 'the',\n",
       " 'even',\n",
       " 'numbers',\n",
       " 'from',\n",
       " 'a',\n",
       " 'list',\n",
       " 'using',\n",
       " 'lambda']"
      ]
     },
     "execution_count": 59,
     "metadata": {},
     "output_type": "execute_result"
    }
   ],
   "source": [
    "words"
   ]
  },
  {
   "cell_type": "code",
   "execution_count": null,
   "id": "7169ff6b",
   "metadata": {
    "id": "7169ff6b"
   },
   "outputs": [],
   "source": [
    "sentence1 = \" \".join(words)"
   ]
  },
  {
   "cell_type": "code",
   "execution_count": null,
   "id": "deb716ba",
   "metadata": {
    "id": "deb716ba",
    "outputId": "999843ab-797e-4333-d1a2-a70142c9bd9a"
   },
   "outputs": [
    {
     "data": {
      "text/plain": [
       "'get all the even numbers from a list using lambda'"
      ]
     },
     "execution_count": 61,
     "metadata": {},
     "output_type": "execute_result"
    }
   ],
   "source": [
    "sentence1"
   ]
  },
  {
   "cell_type": "code",
   "execution_count": null,
   "id": "8594a050",
   "metadata": {
    "id": "8594a050"
   },
   "outputs": [],
   "source": []
  },
  {
   "cell_type": "markdown",
   "id": "04e6fb94",
   "metadata": {
    "id": "04e6fb94"
   },
   "source": [
    "# Iterator, Generator and Decorator"
   ]
  },
  {
   "cell_type": "markdown",
   "id": "3442d121",
   "metadata": {
    "id": "3442d121"
   },
   "source": [
    "# Iterator"
   ]
  },
  {
   "cell_type": "code",
   "execution_count": 9,
   "id": "cc0451a4",
   "metadata": {
    "id": "cc0451a4"
   },
   "outputs": [],
   "source": [
    "nums_list = [1,2,3,4,6,7]"
   ]
  },
  {
   "cell_type": "code",
   "execution_count": 10,
   "id": "f562cca9",
   "metadata": {
    "id": "f562cca9"
   },
   "outputs": [],
   "source": [
    "iterator = iter(nums_list)"
   ]
  },
  {
   "cell_type": "code",
   "execution_count": 12,
   "id": "026b040a",
   "metadata": {
    "id": "026b040a",
    "outputId": "672d659e-35f7-4f14-f940-87004f9ab0f6"
   },
   "outputs": [
    {
     "data": {
      "text/plain": [
       "2"
      ]
     },
     "execution_count": 12,
     "metadata": {},
     "output_type": "execute_result"
    }
   ],
   "source": [
    "next(iterator)"
   ]
  },
  {
   "cell_type": "code",
   "execution_count": 13,
   "id": "1a89a9c9",
   "metadata": {
    "id": "1a89a9c9",
    "outputId": "58fa55f9-ffdd-496f-d33a-507ef4706d43"
   },
   "outputs": [
    {
     "data": {
      "text/plain": [
       "3"
      ]
     },
     "execution_count": 13,
     "metadata": {},
     "output_type": "execute_result"
    }
   ],
   "source": [
    "next(iterator)"
   ]
  },
  {
   "cell_type": "code",
   "execution_count": null,
   "id": "8062a61d",
   "metadata": {
    "id": "8062a61d",
    "outputId": "669b3b41-3dbd-440f-aaa2-9fa12f0e3175"
   },
   "outputs": [
    {
     "data": {
      "text/plain": [
       "3"
      ]
     },
     "execution_count": 72,
     "metadata": {},
     "output_type": "execute_result"
    }
   ],
   "source": [
    "next(iterator)"
   ]
  },
  {
   "cell_type": "code",
   "execution_count": 14,
   "id": "6afa2b66",
   "metadata": {
    "id": "6afa2b66",
    "outputId": "22054cf1-ebfa-4560-ad96-bab9f5318e1b"
   },
   "outputs": [
    {
     "data": {
      "text/plain": [
       "4"
      ]
     },
     "execution_count": 14,
     "metadata": {},
     "output_type": "execute_result"
    }
   ],
   "source": [
    "next(iterator)"
   ]
  },
  {
   "cell_type": "code",
   "execution_count": 15,
   "id": "470c2764",
   "metadata": {
    "id": "470c2764",
    "outputId": "4bf5a2ae-939b-4ba2-fe47-6ea8a84cd395"
   },
   "outputs": [
    {
     "data": {
      "text/plain": [
       "6"
      ]
     },
     "execution_count": 15,
     "metadata": {},
     "output_type": "execute_result"
    }
   ],
   "source": [
    "next(iterator)"
   ]
  },
  {
   "cell_type": "code",
   "execution_count": 16,
   "id": "951f83b1",
   "metadata": {
    "id": "951f83b1",
    "outputId": "d51201a0-9c24-480c-9b00-6b5e59e5621c",
    "scrolled": true
   },
   "outputs": [
    {
     "data": {
      "text/plain": [
       "7"
      ]
     },
     "execution_count": 16,
     "metadata": {},
     "output_type": "execute_result"
    }
   ],
   "source": [
    "next(iterator)"
   ]
  },
  {
   "cell_type": "markdown",
   "id": "b1746963",
   "metadata": {
    "id": "b1746963"
   },
   "source": [
    "# Generator"
   ]
  },
  {
   "cell_type": "code",
   "execution_count": 18,
   "id": "553f00d5",
   "metadata": {
    "id": "553f00d5"
   },
   "outputs": [],
   "source": [
    "def numeric_generator():\n",
    "    yield 2\n",
    "    yield 4\n",
    "    yield 5\n",
    "    yield 6\n",
    "    "
   ]
  },
  {
   "cell_type": "code",
   "execution_count": 19,
   "id": "867b674b",
   "metadata": {
    "id": "867b674b"
   },
   "outputs": [],
   "source": [
    "obj = numeric_generator()"
   ]
  },
  {
   "cell_type": "code",
   "execution_count": 20,
   "id": "ece169b6",
   "metadata": {
    "id": "ece169b6",
    "outputId": "a125c853-b156-469b-edfe-5c9bd3868f99"
   },
   "outputs": [
    {
     "name": "stdout",
     "output_type": "stream",
     "text": [
      "2\n",
      "4\n",
      "5\n",
      "6\n"
     ]
    }
   ],
   "source": [
    "for num in obj:\n",
    "    print(num)"
   ]
  },
  {
   "cell_type": "code",
   "execution_count": 21,
   "id": "a285d122",
   "metadata": {
    "id": "a285d122",
    "outputId": "549b5f3b-249a-454c-8864-8ac0bec82fd0"
   },
   "outputs": [
    {
     "ename": "StopIteration",
     "evalue": "",
     "output_type": "error",
     "traceback": [
      "\u001b[1;31m---------------------------------------------------------------------------\u001b[0m",
      "\u001b[1;31mStopIteration\u001b[0m                             Traceback (most recent call last)",
      "\u001b[1;32m<ipython-input-21-fb1646cc9850>\u001b[0m in \u001b[0;36m<module>\u001b[1;34m\u001b[0m\n\u001b[1;32m----> 1\u001b[1;33m \u001b[0mobj\u001b[0m\u001b[1;33m.\u001b[0m\u001b[0m__next__\u001b[0m\u001b[1;33m(\u001b[0m\u001b[1;33m)\u001b[0m\u001b[1;33m\u001b[0m\u001b[1;33m\u001b[0m\u001b[0m\n\u001b[0m",
      "\u001b[1;31mStopIteration\u001b[0m: "
     ]
    }
   ],
   "source": [
    "obj.__next__()"
   ]
  },
  {
   "cell_type": "code",
   "execution_count": null,
   "id": "dc2d010b",
   "metadata": {
    "id": "dc2d010b",
    "outputId": "67d9b377-1e27-4adf-ea07-9d11150c2a8f"
   },
   "outputs": [],
   "source": [
    "obj.__next__()"
   ]
  },
  {
   "cell_type": "code",
   "execution_count": 5,
   "id": "bebcff46",
   "metadata": {
    "id": "bebcff46",
    "outputId": "8281fe3e-0407-45e8-8e01-6644a7bd82c5"
   },
   "outputs": [
    {
     "ename": "StopIteration",
     "evalue": "",
     "output_type": "error",
     "traceback": [
      "\u001b[1;31m---------------------------------------------------------------------------\u001b[0m",
      "\u001b[1;31mStopIteration\u001b[0m                             Traceback (most recent call last)",
      "\u001b[1;32m<ipython-input-5-fb1646cc9850>\u001b[0m in \u001b[0;36m<module>\u001b[1;34m\u001b[0m\n\u001b[1;32m----> 1\u001b[1;33m \u001b[0mobj\u001b[0m\u001b[1;33m.\u001b[0m\u001b[0m__next__\u001b[0m\u001b[1;33m(\u001b[0m\u001b[1;33m)\u001b[0m\u001b[1;33m\u001b[0m\u001b[1;33m\u001b[0m\u001b[0m\n\u001b[0m",
      "\u001b[1;31mStopIteration\u001b[0m: "
     ]
    }
   ],
   "source": [
    "obj.__next__()"
   ]
  },
  {
   "cell_type": "code",
   "execution_count": 22,
   "id": "6cf46003",
   "metadata": {
    "id": "6cf46003",
    "outputId": "41c798c9-ab48-415b-ba5c-5ef88507e97b"
   },
   "outputs": [
    {
     "ename": "StopIteration",
     "evalue": "",
     "output_type": "error",
     "traceback": [
      "\u001b[1;31m---------------------------------------------------------------------------\u001b[0m",
      "\u001b[1;31mStopIteration\u001b[0m                             Traceback (most recent call last)",
      "\u001b[1;32m<ipython-input-22-fb1646cc9850>\u001b[0m in \u001b[0;36m<module>\u001b[1;34m\u001b[0m\n\u001b[1;32m----> 1\u001b[1;33m \u001b[0mobj\u001b[0m\u001b[1;33m.\u001b[0m\u001b[0m__next__\u001b[0m\u001b[1;33m(\u001b[0m\u001b[1;33m)\u001b[0m\u001b[1;33m\u001b[0m\u001b[1;33m\u001b[0m\u001b[0m\n\u001b[0m",
      "\u001b[1;31mStopIteration\u001b[0m: "
     ]
    }
   ],
   "source": [
    "obj.__next__()"
   ]
  },
  {
   "cell_type": "code",
   "execution_count": null,
   "id": "297d2304",
   "metadata": {
    "id": "297d2304",
    "outputId": "1abc710e-46c7-4298-9e31-12e72c893ae0"
   },
   "outputs": [
    {
     "ename": "StopIteration",
     "evalue": "",
     "output_type": "error",
     "traceback": [
      "\u001b[0;31m---------------------------------------------------------------------------\u001b[0m",
      "\u001b[0;31mStopIteration\u001b[0m                             Traceback (most recent call last)",
      "\u001b[0;32m<ipython-input-108-fb1646cc9850>\u001b[0m in \u001b[0;36m<module>\u001b[0;34m\u001b[0m\n\u001b[0;32m----> 1\u001b[0;31m \u001b[0mobj\u001b[0m\u001b[0;34m.\u001b[0m\u001b[0m__next__\u001b[0m\u001b[0;34m(\u001b[0m\u001b[0;34m)\u001b[0m\u001b[0;34m\u001b[0m\u001b[0;34m\u001b[0m\u001b[0m\n\u001b[0m",
      "\u001b[0;31mStopIteration\u001b[0m: "
     ]
    }
   ],
   "source": [
    "obj.__next__()"
   ]
  },
  {
   "cell_type": "markdown",
   "id": "6a3d302a",
   "metadata": {
    "id": "6a3d302a"
   },
   "source": [
    "## Function:\n",
    "anything folled by () is nothing but a function in python"
   ]
  },
  {
   "cell_type": "code",
   "execution_count": 23,
   "id": "c8ad0196",
   "metadata": {
    "id": "c8ad0196"
   },
   "outputs": [],
   "source": [
    "def integers(n):\n",
    "    count = 0\n",
    "    while count <= n:\n",
    "        print (count)\n",
    "        count += 1"
   ]
  },
  {
   "cell_type": "code",
   "execution_count": 24,
   "id": "dad2fdf0",
   "metadata": {
    "id": "dad2fdf0",
    "outputId": "f37202ad-7d84-4895-db7a-e3dfa450c51b"
   },
   "outputs": [
    {
     "name": "stdout",
     "output_type": "stream",
     "text": [
      "0\n",
      "1\n",
      "2\n",
      "3\n",
      "4\n"
     ]
    }
   ],
   "source": [
    "integers(4)"
   ]
  },
  {
   "cell_type": "markdown",
   "id": "c9a8a374",
   "metadata": {
    "id": "c9a8a374"
   },
   "source": [
    "# Tomorrow:\n",
    "Decorator\n",
    "Exception handling\n",
    "Regular Expresssion\n",
    "Oops Concepts"
   ]
  },
  {
   "cell_type": "code",
   "execution_count": null,
   "id": "a8a327ff",
   "metadata": {
    "id": "a8a327ff"
   },
   "outputs": [],
   "source": []
  }
 ],
 "metadata": {
  "colab": {
   "name": "session6.ipynb",
   "provenance": []
  },
  "kernelspec": {
   "display_name": "Python 3",
   "language": "python",
   "name": "python3"
  },
  "language_info": {
   "codemirror_mode": {
    "name": "ipython",
    "version": 3
   },
   "file_extension": ".py",
   "mimetype": "text/x-python",
   "name": "python",
   "nbconvert_exporter": "python",
   "pygments_lexer": "ipython3",
   "version": "3.8.10"
  }
 },
 "nbformat": 4,
 "nbformat_minor": 5
}
